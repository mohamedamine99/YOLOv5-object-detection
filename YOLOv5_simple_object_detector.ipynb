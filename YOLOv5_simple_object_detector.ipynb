{
  "nbformat": 4,
  "nbformat_minor": 0,
  "metadata": {
    "colab": {
      "provenance": [],
      "toc_visible": true
    },
    "kernelspec": {
      "name": "python3",
      "display_name": "Python 3"
    },
    "language_info": {
      "name": "python"
    }
  },
  "cells": [
    {
      "cell_type": "markdown",
      "source": [
        "<div align=\"center\">\n",
        "\n",
        "# YOLOv5 simple object detector\n",
        "\n",
        "</div>\n",
        "\n",
        "This Colab notebook demonstrates how to use YOLOv5 for object detection on images and videos with different YOLOv5 variants. YOLOv5 is a state-of-the-art object detection algorithm that provides high accuracy and real-time detection speeds. In this notebook, we'll explore how to use YOLOv5 to detect objects in both static images and videos.\n"
      ],
      "metadata": {
        "id": "__RRUqeCJo-8"
      }
    },
    {
      "cell_type": "markdown",
      "source": [
        "## Importing libraries, module and files"
      ],
      "metadata": {
        "id": "ZoZrnFsqLDR6"
      }
    },
    {
      "cell_type": "code",
      "source": [
        "!git clone https://github.com/mohamedamine99/YOLOv5-object-detection"
      ],
      "metadata": {
        "colab": {
          "base_uri": "https://localhost:8080/"
        },
        "id": "Q_FEoVtf-igA",
        "outputId": "7a4b25f5-0cc2-46b1-ccf8-865610b07cb2"
      },
      "execution_count": null,
      "outputs": [
        {
          "output_type": "stream",
          "name": "stdout",
          "text": [
            "Cloning into 'YOLOv5-object-detection'...\n",
            "remote: Enumerating objects: 174, done.\u001b[K\n",
            "remote: Total 174 (delta 0), reused 0 (delta 0), pack-reused 174\u001b[K\n",
            "Receiving objects: 100% (174/174), 41.77 MiB | 32.55 MiB/s, done.\n",
            "Resolving deltas: 100% (17/17), done.\n"
          ]
        }
      ]
    },
    {
      "cell_type": "code",
      "source": [
        "import os\n",
        "import shutil\n",
        "import time\n",
        "import random\n",
        "from collections import namedtuple\n",
        "\n",
        "\n",
        "import cv2\n",
        "import matplotlib.pyplot as plt\n",
        "import numpy as np\n",
        "\n",
        "\n",
        "# YOLOv5 PyTorch HUB Inference (DetectionModels only)\n",
        "import torch"
      ],
      "metadata": {
        "id": "Csdrs23IAvFJ"
      },
      "execution_count": null,
      "outputs": []
    },
    {
      "cell_type": "code",
      "execution_count": null,
      "metadata": {
        "colab": {
          "base_uri": "https://localhost:8080/"
        },
        "id": "Y2aZwji-vloL",
        "outputId": "506cc112-a1d8-4c53-8553-cea9ebfc514c"
      },
      "outputs": [
        {
          "output_type": "stream",
          "name": "stderr",
          "text": [
            "Ultralytics YOLOv8.0.54 🚀 Python-3.9.16 torch-1.13.1+cu116 CPU\n",
            "Setup complete ✅ (2 CPUs, 12.7 GB RAM, 28.1/107.7 GB disk)\n"
          ]
        }
      ],
      "source": [
        "%pip install ultralytics  # install\n",
        "import ultralytics\n",
        "ultralytics.checks()  # checks"
      ]
    },
    {
      "cell_type": "markdown",
      "source": [
        "### Setting up paths and working dirs "
      ],
      "metadata": {
        "id": "95AWtTWmMHkF"
      }
    },
    {
      "cell_type": "code",
      "source": [
        "# Set up paths and working directories\n",
        "coco_names_file = '/content/YOLOv5-object-detection/coco.names'  # Path to file containing COCO object class names\n",
        "\n",
        "results_path = '/content/results'  # Path to directory where result images will be saved\n",
        "video_results_path = '/content/video_results'  # Path to directory where result videos will be saved\n",
        "\n",
        "test_imgs_path = '/content/YOLOv5-object-detection/test imgs'  # Path to directory containing test images\n",
        "test_vids_path = '/content/YOLOv5-object-detection/test vids'  # Path to directory containing test videos\n"
      ],
      "metadata": {
        "id": "8icYnlZitmDs"
      },
      "execution_count": null,
      "outputs": []
    },
    {
      "cell_type": "markdown",
      "source": [
        "### loading COCO class names "
      ],
      "metadata": {
        "id": "672GykilPs4e"
      }
    },
    {
      "cell_type": "code",
      "source": [
        "# Reading the COCO dataset 80 class names from the coco names file\n",
        "labels = []\n",
        "with open(coco_names_file, 'rt') as coco_file:\n",
        "    labels = coco_file.read().rstrip('\\n').rsplit('\\n')\n",
        "    \n",
        "print(labels)\n",
        "\n",
        "# generate random color for each label\n",
        "colors = []\n",
        "for _ in labels:\n",
        "    rand_tuple = (random.randint(0, 255), random.randint(0, 255), random.randint(0, 255))\n",
        "    colors.append(rand_tuple)\n"
      ],
      "metadata": {
        "colab": {
          "base_uri": "https://localhost:8080/"
        },
        "id": "IWdB2VNGtkIG",
        "outputId": "c8be06c6-e6fb-4470-ec8e-5b92c32795e4"
      },
      "execution_count": null,
      "outputs": [
        {
          "output_type": "stream",
          "name": "stdout",
          "text": [
            "['person', 'bicycle', 'car', 'motorbike', 'aeroplane', 'bus', 'train', 'truck', 'boat', 'traffic light', 'fire hydrant', 'stop sign', 'parking meter', 'bench', 'bird', 'cat', 'dog', 'horse', 'sheep', 'cow', 'elephant', 'bear', 'zebra', 'giraffe', 'backpack', 'umbrella', 'handbag', 'tie', 'suitcase', 'frisbee', 'skis', 'snowboard', 'sports ball', 'kite', 'baseball bat', 'baseball glove', 'skateboard', 'surfboard', 'tennis racket', 'bottle', 'wine glass', 'cup', 'fork', 'knife', 'spoon', 'bowl', 'banana', 'apple', 'sandwich', 'orange', 'broccoli', 'carrot', 'hot dog', 'pizza', 'donut', 'cake', 'chair', 'sofa', 'pottedplant', 'bed', 'diningtable', 'toilet', 'tvmonitor', 'laptop', 'mouse', 'remote', 'keyboard', 'cell phone', 'microwave', 'oven', 'toaster', 'sink', 'refrigerator', 'book', 'clock', 'vase', 'scissors', 'teddy bear', 'hair drier', 'toothbrush']\n"
          ]
        }
      ]
    },
    {
      "cell_type": "markdown",
      "source": [
        "### Loading YOLOv5 variants"
      ],
      "metadata": {
        "id": "_xof1AtGP-Ro"
      }
    },
    {
      "cell_type": "code",
      "source": [
        "# Define a list of YOLOv5 variant model names to be loaded\n",
        "yolov5_variants_names = ['yolov5n', 'yolov5s', 'yolov5m', 'yolov5l','yolov5x' ]\n",
        "yolov5_variants_names_6 = ['yolov5n6', 'yolov5s6', 'yolov5m6', 'yolov5l6','yolov5x6' ]\n",
        "\n",
        "# Create an empty list to hold the loaded models\n",
        "yolov5_variants = []\n",
        "\n",
        "# Define a namedtuple to store the PyTorch model and its name\n",
        "Yolov5_model = namedtuple('Yolov5_model', ['model', 'name'])\n",
        "\n",
        "# Loop through the list of model names to load each model\n",
        "for yolo_name in set(yolov5_variants_names + yolov5_variants_names_6):\n",
        "    # Load the YOLOv5 variant model using torch.hub.load() function from PyTorch\n",
        "    model = torch.hub.load('ultralytics/yolov5', yolo_name, force_reload=True, verbose = False)\n",
        "    \n",
        "    # Create a Yolov5_model object for the loaded model and append it to the list of variants\n",
        "    y_m = Yolov5_model(model, yolo_name)\n",
        "    yolov5_variants.append(y_m)\n",
        "\n",
        "# Print the number of loaded models\n",
        "print(len(yolov5_variants))\n"
      ],
      "metadata": {
        "id": "wZwaFhUzQzVU"
      },
      "execution_count": null,
      "outputs": []
    },
    {
      "cell_type": "code",
      "source": [
        "# creating Directories for Results and Video Results for YOLOv5 Variants\n",
        "for yolo_name in set(yolov5_variants_names + yolov5_variants_names_6):\n",
        "    new_dir = os.path.join(results_path, yolo_name)\n",
        "    os.makedirs(new_dir)\n",
        "\n",
        "    new_dir = os.path.join(video_results_path, yolo_name)\n",
        "    os.makedirs(new_dir)"
      ],
      "metadata": {
        "id": "rL0W-fanzm9L"
      },
      "execution_count": null,
      "outputs": []
    },
    {
      "cell_type": "markdown",
      "source": [
        "## Object Detection on Images in a Directory Using YOLOv5 Variants\n",
        "\n",
        "\n"
      ],
      "metadata": {
        "id": "Y9TjjUI6T8mw"
      }
    },
    {
      "cell_type": "code",
      "source": [
        "def run_object_detection_on_images_from_dir(images_path, model_variants,\n",
        "                                   labels, colors, save_dir,\n",
        "                                   conf = 0.25,  # NMS confidence threshold\n",
        "                                   iou = 0.45,  # NMS IoU threshold\n",
        "                                   classes = None,  # (optional list) filter by class\n",
        "                                   max_det = 1000 , # maximum number of detections per image\n",
        "                                   ):\n",
        "    \"\"\"\n",
        "    Run object detection on images from a directory using YOLOv5 models.\n",
        "\n",
        "    Parameters:\n",
        "    -----------\n",
        "    images_path : str\n",
        "        Path to the directory containing images to be processed.\n",
        "    model_variants : list\n",
        "        List of Yolov5_model namedtuples containing YOLOv5 models and their names.\n",
        "    labels : list\n",
        "        List of object labels.\n",
        "    colors : list\n",
        "        List of colors for each object label.\n",
        "    save_dir : str\n",
        "        Path to the directory where the processed images will be saved.\n",
        "    conf : float, optional\n",
        "        NMS confidence threshold (default is 0.25).\n",
        "    iou : float, optional\n",
        "        NMS IoU threshold (default is 0.45).\n",
        "    classes : list, optional\n",
        "        List of classes to filter by (default is None).\n",
        "    max_det : int, optional\n",
        "        Maximum number of detections per image (default is 1000).\n",
        "\n",
        "    Returns:\n",
        "    --------\n",
        "    None\n",
        "    \"\"\"\n",
        "    # Loop through all images in the directory\n",
        "    for img_name in os.listdir(images_path):\n",
        "        img_path = os.path.join(images_path, img_name)\n",
        "        img = cv2.imread(img_path)\n",
        "        print(\"\\n----------------------------\")\n",
        "        print(img_name)\n",
        "        print(img.shape)\n",
        "\n",
        "        # Calculate bounding box thickness based on image dimensions\n",
        "        bbx_thickness = (img.shape[0] + img.shape[1]) // 500\n",
        "\n",
        "        # Loop through all YOLOv5 models\n",
        "        for variant in model_variants:\n",
        "            image = img.copy()\n",
        "            #print(\"********************\")\n",
        "            print(variant.name ,end = '  ')\n",
        "\n",
        "            # Load the YOLOv5 model and set parameters\n",
        "            model = variant.model\n",
        "            model.conf = conf\n",
        "            model.iou = iou\n",
        "            model.classes = classes\n",
        "            model.max_det = max_det\n",
        "\n",
        "            # Make predictions on the image\n",
        "            results = model(img)\n",
        "            res = np.array(results.xyxy[0])\n",
        "\n",
        "            # Loop through all object detection results\n",
        "            for r in res:\n",
        "\n",
        "                # Extract object class and confidence score\n",
        "                score = r[4] * 100\n",
        "                r = r.astype(int)\n",
        "                class_id = r[5]\n",
        "\n",
        "                # Calculate font scale based on object size\n",
        "                fontScale = (((r[2] - r[0]) / img.shape[0]) + ((r[3] - r[1]) / img.shape[1])) / 2 * 1.5\n",
        "\n",
        "                # Draw bounding box, a centroid and label on the image\n",
        "                im = cv2.putText(image,f\"{labels[class_id]} {score:,.2f}%\" , \n",
        "                                (r[0],r[1] - 5), cv2.FONT_HERSHEY_COMPLEX, \n",
        "                            fontScale,  colors[class_id], 1, cv2.LINE_AA)\n",
        "                \n",
        "                im = cv2.rectangle(im, (r[0],r[1]), (r[2],r[3]), colors[class_id], bbx_thickness)\n",
        "\n",
        "                center_coordinates = ((r[2] + r[0])//2, (r[3] + r[1]) // 2)\n",
        "                im =  cv2.circle(im, center_coordinates, 2 , (0,0,255), -1)\n",
        "\n",
        "            # save resulting images in their corresponding folders\n",
        "            save_file = os.path.join(save_dir, variant.name, img_name)\n",
        "            cv2.imwrite(save_file ,im)\n",
        "\n",
        "\n"
      ],
      "metadata": {
        "id": "yv6WtBqMRYX-"
      },
      "execution_count": null,
      "outputs": []
    },
    {
      "cell_type": "code",
      "source": [
        "# Object Detection on Images in a Directory Using YOLOv5 Variants\n",
        "\n",
        "run_object_detection_on_images_from_dir(images_path = test_imgs_path,\n",
        "                                   model_variants = yolov5_variants,\n",
        "                                   labels = labels, \n",
        "                                   colors = colors, \n",
        "                                   save_dir = results_path\n",
        "                                   )"
      ],
      "metadata": {
        "colab": {
          "base_uri": "https://localhost:8080/"
        },
        "id": "jv7LYiNAWO8T",
        "outputId": "8afdd02a-c852-44f5-c5c8-8b3f5d14a230"
      },
      "execution_count": null,
      "outputs": [
        {
          "output_type": "stream",
          "name": "stdout",
          "text": [
            "\n",
            "----------------------------\n",
            "highway.PNG\n",
            "(303, 491, 3)\n",
            "yolov5s6  yolov5x  yolov5n  yolov5l  yolov5m  yolov5s  yolov5x6  yolov5n6  yolov5m6  yolov5l6  \n",
            "----------------------------\n",
            "nyc street.PNG\n",
            "(333, 479, 3)\n",
            "yolov5s6  yolov5x  yolov5n  yolov5l  yolov5m  yolov5s  yolov5x6  yolov5n6  yolov5m6  yolov5l6  \n",
            "----------------------------\n",
            "2 dogs.PNG\n",
            "(309, 472, 3)\n",
            "yolov5s6  yolov5x  yolov5n  yolov5l  yolov5m  yolov5s  yolov5x6  yolov5n6  yolov5m6  yolov5l6  \n",
            "----------------------------\n",
            "street 2.PNG\n",
            "(259, 502, 3)\n",
            "yolov5s6  yolov5x  yolov5n  yolov5l  yolov5m  yolov5s  yolov5x6  yolov5n6  yolov5m6  yolov5l6  \n",
            "----------------------------\n",
            "2 cats.PNG\n",
            "(293, 514, 3)\n",
            "yolov5s6  yolov5x  yolov5n  yolov5l  yolov5m  yolov5s  yolov5x6  yolov5n6  yolov5m6  yolov5l6  \n",
            "----------------------------\n",
            "people crossing the street.jpg\n",
            "(976, 976, 3)\n",
            "yolov5s6  yolov5x  yolov5n  yolov5l  yolov5m  yolov5s  yolov5x6  yolov5n6  yolov5m6  yolov5l6  "
          ]
        }
      ]
    },
    {
      "cell_type": "markdown",
      "source": [
        "## Object Detection on Videos in a Directory Using YOLOv5 Variants\n"
      ],
      "metadata": {
        "id": "_ID1-AW8UU-U"
      }
    },
    {
      "cell_type": "code",
      "source": [
        "def run_object_detection_on_video(video_path , model, model_name,\n",
        "                                   labels, colors, save_dir,\n",
        "                                   conf = 0.25,  # NMS confidence threshold\n",
        "                                   iou = 0.45,  # NMS IoU threshold\n",
        "                                   classes = None,  # (optional list) filter by class\n",
        "                                   max_det = 1000 , # maximum number of detections per image\n",
        "                                   ):\n",
        "    \n",
        "    \"\"\"\n",
        "    Runs object detection on a video using a specified model and saves the output video to a specified directory.\n",
        "\n",
        "    Args:\n",
        "        video_path (str): path to the input video file\n",
        "        model (ObjectDetection): object detection model object\n",
        "        model_name (str): name of the object detection model\n",
        "        labels (list): list of label names corresponding to the model's classes\n",
        "        colors (list): list of colors for each class to use for bounding boxes and text labels\n",
        "        save_dir (str): directory to save the output video file\n",
        "        conf (float): NMS confidence threshold\n",
        "        iou (float): NMS IoU threshold\n",
        "        classes (list): list of classes to filter by (optional)\n",
        "        max_det (int): maximum number of detections per image (optional)\n",
        "\n",
        "    Returns:\n",
        "        None\n",
        "    \"\"\"\n",
        "    \n",
        "    # Set object detection model properties\n",
        "    model.conf = conf\n",
        "    model.iou = iou\n",
        "    model.classes = classes\n",
        "    model.max_det = max_det\n",
        "\n",
        "    # Open input video file\n",
        "    cap = cv2.VideoCapture(video_path)\n",
        "    print(\"\\n----------------------------\")\n",
        "\n",
        "    # Get video name \n",
        "    vid_name = os.path.basename(video_path)\n",
        "    print(vid_name, end = ' : ')\n",
        "\n",
        "    # Get frame dimensions and print information about input video file\n",
        "    width  = int(cap.get(3) )  # get `width` \n",
        "    height = int(cap.get(4) )  # get `height` \n",
        "    print((width,height))\n",
        "    print(video_path)\n",
        "    print(model_name)\n",
        "\n",
        "    # Set bounding box thickness based on video dimensions\n",
        "    bbx_thickness = (height + width) // 500\n",
        "\n",
        "    # Define output video file\n",
        "    save_file = os.path.join(save_dir, vid_name[:-4] + \".avi\")\n",
        "    print('saving to :' + save_file)\n",
        "\n",
        "    # define an output VideoWriter  object\n",
        "    out = cv2.VideoWriter(save_file,\n",
        "                        cv2.VideoWriter_fourcc(*\"MJPG\"),\n",
        "                        30,(width,height))\n",
        "\n",
        "    # Check if the video is opened correctly\n",
        "    if not cap.isOpened():\n",
        "        print(\"Error opening video stream or file\")\n",
        "\n",
        "    # Read the video frames\n",
        "    while cap.isOpened():\n",
        "        ret, frame = cap.read()\n",
        "\n",
        "        # If the frame was not read successfully, break the loop\n",
        "        if not ret:\n",
        "            print(\"Error reading frame\")\n",
        "            print((width,height))\n",
        "            break\n",
        "\n",
        "        # Run object detection on the frame and calculate FPS\n",
        "        beg = time.time()\n",
        "        results = model(frame)\n",
        "        fps = 1 / (time.time() - beg)\n",
        "\n",
        "        # Display FPS on frame\n",
        "        frame = cv2.putText(frame,f\"FPS : {fps:,.2f}\" , \n",
        "                            (5,15), cv2.FONT_HERSHEY_COMPLEX, \n",
        "                        0.5,  (0,0,255), 1, cv2.LINE_AA)\n",
        "        \n",
        "        # Convert object detection results to numpy array\n",
        "        results_np = np.array(results.xyxy[0])\n",
        "\n",
        "        for result in results_np:\n",
        "            \n",
        "            score = result[4] * 100\n",
        "            result = result.astype(int)\n",
        "            class_id = result[5]\n",
        "\n",
        "            # Calculate font scale based on object size\n",
        "            fontScale = (((result[2] - result[0]) / height) + ((result[3] - result[1]) / width)) / 2 * 1.5\n",
        "\n",
        "            # Draw bounding boxes, text labels, and center points for each detection\n",
        "            frame = cv2.putText(frame,f\"{labels[class_id]} {score:,.2f}%\" , \n",
        "                            (result[0],result[1] - 5), cv2.FONT_HERSHEY_COMPLEX, \n",
        "                        fontScale,  colors[class_id], 1, cv2.LINE_AA)\n",
        "            \n",
        "            frame = cv2.rectangle(frame, (result[0],result[1]), (result[2],result[3]), colors[class_id], bbx_thickness)\n",
        "\n",
        "            center_coordinates = ((result[2] + result[0])//2, (result[3] + result[1]) // 2)\n",
        "\n",
        "            frame =  cv2.circle(frame, center_coordinates, 2 , (0,0,255), -1)\n",
        "\n",
        "        # append frame to the video file\n",
        "        out.write(frame)\n",
        "        \n",
        "        # the 'q' button is set as the\n",
        "        # quitting button you may use any\n",
        "        # desired button of your choice\n",
        "\n",
        "        if cv2.waitKey(1) & 0xFF == ord('q'):\n",
        "            break\n",
        "\n",
        "    # After the loop release the cap \n",
        "    cap.release()\n",
        "    out.release()\n"
      ],
      "metadata": {
        "id": "yHePuJpJRVLp"
      },
      "execution_count": null,
      "outputs": []
    },
    {
      "cell_type": "code",
      "source": [
        "run_object_detection_on_video('/content/YOLOv5-object-detection/test vids/traffic.mp4' ,\n",
        "                              yolov5_variants[7].model, \n",
        "                              yolov5_variants[7].name,\n",
        "                              labels, colors, results_path,\n",
        "                              conf = 0.25,  # NMS confidence threshold\n",
        "                              iou = 0.45,  # NMS IoU threshold\n",
        "                              classes = None,  # (optional list) filter by class\n",
        "                              max_det = 1000 , # maximum number of detections per image\n",
        "                                   )"
      ],
      "metadata": {
        "id": "AasrwEYWZ1CF"
      },
      "execution_count": null,
      "outputs": []
    },
    {
      "cell_type": "code",
      "source": [
        "# Looping through Test Videos and Running Object Detection on them for Different YOLOv5 Variants.\n",
        "\n",
        "# Loop through each test video file in the directory\n",
        "for video_file in os.listdir(test_vids_path):\n",
        "\n",
        "    # Get the full path of the video file and its name\n",
        "    video_path = os.path.join(test_vids_path, video_file)\n",
        "    video_name = os.path.basename(video_path)\n",
        "    print(video_name)\n",
        "    print(video_path)\n",
        "\n",
        "    # Loop through each YOLOv5 variant and run object detection on the video\n",
        "    for variant in yolov5_variants:\n",
        "        print(variant.name, end = \" - \")\n",
        "        save_dir = os.path.join(video_results_path, variant.name )\n",
        "\n",
        "        run_object_detection_on_video(video_path ,\n",
        "                                    variant.model, \n",
        "                                    variant.name,\n",
        "                                    labels, colors, \n",
        "                                    save_dir,\n",
        "                                    conf = 0.25,  # NMS confidence threshold\n",
        "                                    iou = 0.45,  # NMS IoU threshold\n",
        "                                    classes = None,  # (optional list) filter by class\n",
        "                                    max_det = 1000 , # maximum number of detections per image\n",
        "                                        )\n",
        "    \n",
        "    print(\"\\n-------------\")\n"
      ],
      "metadata": {
        "colab": {
          "base_uri": "https://localhost:8080/"
        },
        "outputId": "aad51f69-95d8-4c53-8de4-83a2db35599b",
        "id": "3xw7icPOwqB-"
      },
      "execution_count": null,
      "outputs": [
        {
          "output_type": "stream",
          "name": "stdout",
          "text": [
            "1935 street scene.mp4\n",
            "/content/YOLOv5-object-detection/test vids/1935 street scene.mp4\n",
            "yolov5s6 - \n",
            "----------------------------\n",
            "1935 street scene.mp4 : (1280, 720)\n",
            "/content/YOLOv5-object-detection/test vids/1935 street scene.mp4\n",
            "yolov5s6\n",
            "saving to :/content/video_results/yolov5s6/1935 street scene.avi\n",
            "Error reading frame\n",
            "(1280, 720)\n",
            "yolov5x - \n",
            "----------------------------\n",
            "1935 street scene.mp4 : (1280, 720)\n",
            "/content/YOLOv5-object-detection/test vids/1935 street scene.mp4\n",
            "yolov5x\n",
            "saving to :/content/video_results/yolov5x/1935 street scene.avi\n",
            "Error reading frame\n",
            "(1280, 720)\n",
            "yolov5n - \n",
            "----------------------------\n",
            "1935 street scene.mp4 : (1280, 720)\n",
            "/content/YOLOv5-object-detection/test vids/1935 street scene.mp4\n",
            "yolov5n\n",
            "saving to :/content/video_results/yolov5n/1935 street scene.avi\n",
            "Error reading frame\n",
            "(1280, 720)\n",
            "yolov5l - \n",
            "----------------------------\n",
            "1935 street scene.mp4 : (1280, 720)\n",
            "/content/YOLOv5-object-detection/test vids/1935 street scene.mp4\n",
            "yolov5l\n",
            "saving to :/content/video_results/yolov5l/1935 street scene.avi\n",
            "Error reading frame\n",
            "(1280, 720)\n",
            "yolov5m - \n",
            "----------------------------\n",
            "1935 street scene.mp4 : (1280, 720)\n",
            "/content/YOLOv5-object-detection/test vids/1935 street scene.mp4\n",
            "yolov5m\n",
            "saving to :/content/video_results/yolov5m/1935 street scene.avi\n",
            "Error reading frame\n",
            "(1280, 720)\n",
            "yolov5s - \n",
            "----------------------------\n",
            "1935 street scene.mp4 : (1280, 720)\n",
            "/content/YOLOv5-object-detection/test vids/1935 street scene.mp4\n",
            "yolov5s\n",
            "saving to :/content/video_results/yolov5s/1935 street scene.avi\n",
            "Error reading frame\n",
            "(1280, 720)\n",
            "yolov5x6 - \n",
            "----------------------------\n",
            "1935 street scene.mp4 : (1280, 720)\n",
            "/content/YOLOv5-object-detection/test vids/1935 street scene.mp4\n",
            "yolov5x6\n",
            "saving to :/content/video_results/yolov5x6/1935 street scene.avi\n",
            "Error reading frame\n",
            "(1280, 720)\n",
            "yolov5n6 - \n",
            "----------------------------\n",
            "1935 street scene.mp4 : (1280, 720)\n",
            "/content/YOLOv5-object-detection/test vids/1935 street scene.mp4\n",
            "yolov5n6\n",
            "saving to :/content/video_results/yolov5n6/1935 street scene.avi\n",
            "Error reading frame\n",
            "(1280, 720)\n",
            "yolov5m6 - \n",
            "----------------------------\n",
            "1935 street scene.mp4 : (1280, 720)\n",
            "/content/YOLOv5-object-detection/test vids/1935 street scene.mp4\n",
            "yolov5m6\n",
            "saving to :/content/video_results/yolov5m6/1935 street scene.avi\n",
            "Error reading frame\n",
            "(1280, 720)\n",
            "yolov5l6 - \n",
            "----------------------------\n",
            "1935 street scene.mp4 : (1280, 720)\n",
            "/content/YOLOv5-object-detection/test vids/1935 street scene.mp4\n",
            "yolov5l6\n",
            "saving to :/content/video_results/yolov5l6/1935 street scene.avi\n",
            "Error reading frame\n",
            "(1280, 720)\n",
            "\n",
            "-------------\n",
            "traffic.mp4\n",
            "/content/YOLOv5-object-detection/test vids/traffic.mp4\n",
            "yolov5s6 - \n",
            "----------------------------\n",
            "traffic.mp4 : (640, 360)\n",
            "/content/YOLOv5-object-detection/test vids/traffic.mp4\n",
            "yolov5s6\n",
            "saving to :/content/video_results/yolov5s6/traffic.avi\n",
            "Error reading frame\n",
            "(640, 360)\n",
            "yolov5x - \n",
            "----------------------------\n",
            "traffic.mp4 : (640, 360)\n",
            "/content/YOLOv5-object-detection/test vids/traffic.mp4\n",
            "yolov5x\n",
            "saving to :/content/video_results/yolov5x/traffic.avi\n",
            "Error reading frame\n",
            "(640, 360)\n",
            "yolov5n - \n",
            "----------------------------\n",
            "traffic.mp4 : (640, 360)\n",
            "/content/YOLOv5-object-detection/test vids/traffic.mp4\n",
            "yolov5n\n",
            "saving to :/content/video_results/yolov5n/traffic.avi\n",
            "Error reading frame\n",
            "(640, 360)\n",
            "yolov5l - \n",
            "----------------------------\n",
            "traffic.mp4 : (640, 360)\n",
            "/content/YOLOv5-object-detection/test vids/traffic.mp4\n",
            "yolov5l\n",
            "saving to :/content/video_results/yolov5l/traffic.avi\n",
            "Error reading frame\n",
            "(640, 360)\n",
            "yolov5m - \n",
            "----------------------------\n",
            "traffic.mp4 : (640, 360)\n",
            "/content/YOLOv5-object-detection/test vids/traffic.mp4\n",
            "yolov5m\n",
            "saving to :/content/video_results/yolov5m/traffic.avi\n",
            "Error reading frame\n",
            "(640, 360)\n",
            "yolov5s - \n",
            "----------------------------\n",
            "traffic.mp4 : (640, 360)\n",
            "/content/YOLOv5-object-detection/test vids/traffic.mp4\n",
            "yolov5s\n",
            "saving to :/content/video_results/yolov5s/traffic.avi\n",
            "Error reading frame\n",
            "(640, 360)\n",
            "yolov5x6 - \n",
            "----------------------------\n",
            "traffic.mp4 : (640, 360)\n",
            "/content/YOLOv5-object-detection/test vids/traffic.mp4\n",
            "yolov5x6\n",
            "saving to :/content/video_results/yolov5x6/traffic.avi\n",
            "Error reading frame\n",
            "(640, 360)\n",
            "yolov5n6 - \n",
            "----------------------------\n",
            "traffic.mp4 : (640, 360)\n",
            "/content/YOLOv5-object-detection/test vids/traffic.mp4\n",
            "yolov5n6\n",
            "saving to :/content/video_results/yolov5n6/traffic.avi\n",
            "Error reading frame\n",
            "(640, 360)\n",
            "yolov5m6 - \n",
            "----------------------------\n",
            "traffic.mp4 : (640, 360)\n",
            "/content/YOLOv5-object-detection/test vids/traffic.mp4\n",
            "yolov5m6\n",
            "saving to :/content/video_results/yolov5m6/traffic.avi\n",
            "Error reading frame\n",
            "(640, 360)\n",
            "yolov5l6 - \n",
            "----------------------------\n",
            "traffic.mp4 : (640, 360)\n",
            "/content/YOLOv5-object-detection/test vids/traffic.mp4\n",
            "yolov5l6\n",
            "saving to :/content/video_results/yolov5l6/traffic.avi\n",
            "Error reading frame\n",
            "(640, 360)\n",
            "\n",
            "-------------\n",
            "1931 amstrdam.mp4\n",
            "/content/YOLOv5-object-detection/test vids/1931 amstrdam.mp4\n",
            "yolov5s6 - \n",
            "----------------------------\n",
            "1931 amstrdam.mp4 : (1280, 720)\n",
            "/content/YOLOv5-object-detection/test vids/1931 amstrdam.mp4\n",
            "yolov5s6\n",
            "saving to :/content/video_results/yolov5s6/1931 amstrdam.avi\n",
            "Error reading frame\n",
            "(1280, 720)\n",
            "yolov5x - \n",
            "----------------------------\n",
            "1931 amstrdam.mp4 : (1280, 720)\n",
            "/content/YOLOv5-object-detection/test vids/1931 amstrdam.mp4\n",
            "yolov5x\n",
            "saving to :/content/video_results/yolov5x/1931 amstrdam.avi\n",
            "Error reading frame\n",
            "(1280, 720)\n",
            "yolov5n - \n",
            "----------------------------\n",
            "1931 amstrdam.mp4 : (1280, 720)\n",
            "/content/YOLOv5-object-detection/test vids/1931 amstrdam.mp4\n",
            "yolov5n\n",
            "saving to :/content/video_results/yolov5n/1931 amstrdam.avi\n",
            "Error reading frame\n",
            "(1280, 720)\n",
            "yolov5l - \n",
            "----------------------------\n",
            "1931 amstrdam.mp4 : (1280, 720)\n",
            "/content/YOLOv5-object-detection/test vids/1931 amstrdam.mp4\n",
            "yolov5l\n",
            "saving to :/content/video_results/yolov5l/1931 amstrdam.avi\n",
            "Error reading frame\n",
            "(1280, 720)\n",
            "yolov5m - \n",
            "----------------------------\n",
            "1931 amstrdam.mp4 : (1280, 720)\n",
            "/content/YOLOv5-object-detection/test vids/1931 amstrdam.mp4\n",
            "yolov5m\n",
            "saving to :/content/video_results/yolov5m/1931 amstrdam.avi\n",
            "Error reading frame\n",
            "(1280, 720)\n",
            "yolov5s - \n",
            "----------------------------\n",
            "1931 amstrdam.mp4 : (1280, 720)\n",
            "/content/YOLOv5-object-detection/test vids/1931 amstrdam.mp4\n",
            "yolov5s\n",
            "saving to :/content/video_results/yolov5s/1931 amstrdam.avi\n",
            "Error reading frame\n",
            "(1280, 720)\n",
            "yolov5x6 - \n",
            "----------------------------\n",
            "1931 amstrdam.mp4 : (1280, 720)\n",
            "/content/YOLOv5-object-detection/test vids/1931 amstrdam.mp4\n",
            "yolov5x6\n",
            "saving to :/content/video_results/yolov5x6/1931 amstrdam.avi\n",
            "Error reading frame\n",
            "(1280, 720)\n",
            "yolov5n6 - \n",
            "----------------------------\n",
            "1931 amstrdam.mp4 : (1280, 720)\n",
            "/content/YOLOv5-object-detection/test vids/1931 amstrdam.mp4\n",
            "yolov5n6\n",
            "saving to :/content/video_results/yolov5n6/1931 amstrdam.avi\n",
            "Error reading frame\n",
            "(1280, 720)\n",
            "yolov5m6 - \n",
            "----------------------------\n",
            "1931 amstrdam.mp4 : (1280, 720)\n",
            "/content/YOLOv5-object-detection/test vids/1931 amstrdam.mp4\n",
            "yolov5m6\n",
            "saving to :/content/video_results/yolov5m6/1931 amstrdam.avi\n",
            "Error reading frame\n",
            "(1280, 720)\n",
            "yolov5l6 - \n",
            "----------------------------\n",
            "1931 amstrdam.mp4 : (1280, 720)\n",
            "/content/YOLOv5-object-detection/test vids/1931 amstrdam.mp4\n",
            "yolov5l6\n",
            "saving to :/content/video_results/yolov5l6/1931 amstrdam.avi\n",
            "Error reading frame\n",
            "(1280, 720)\n",
            "\n",
            "-------------\n"
          ]
        }
      ]
    },
    {
      "cell_type": "markdown",
      "source": [
        "## Saving results"
      ],
      "metadata": {
        "id": "RzyRPF8EYe0J"
      }
    },
    {
      "cell_type": "code",
      "source": [
        "!zip -r results.zip /content/results"
      ],
      "metadata": {
        "id": "P59WjCKOGO0h"
      },
      "execution_count": null,
      "outputs": []
    },
    {
      "cell_type": "code",
      "source": [
        "!zip -r video_results.zip /content/video_results"
      ],
      "metadata": {
        "id": "v3lz3ZDmQ5W4"
      },
      "execution_count": null,
      "outputs": []
    }
  ]
}