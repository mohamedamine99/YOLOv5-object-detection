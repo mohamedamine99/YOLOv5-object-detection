{
  "nbformat": 4,
  "nbformat_minor": 0,
  "metadata": {
    "colab": {
      "provenance": []
    },
    "kernelspec": {
      "name": "python3",
      "display_name": "Python 3"
    },
    "language_info": {
      "name": "python"
    }
  },
  "cells": [
    {
      "cell_type": "markdown",
      "source": [
        "<div align=\"center\">\n",
        "\n",
        "# YOLOv5 simple object detector using a class-based approach\n",
        "\n",
        "</div>\n",
        "\n",
        "The YOLOv5 is a powerful object detection algorithm that combines high accuracy and real-time detection speeds. This Colab notebook demonstrates how to implement a simple object detector using a class-based approach, allowing us to detect objects in both static images and videos.\n",
        "\n",
        "By using a class-based approach, the notebook will offer several advantages over other approaches, such as easier maintenance and extensibility of the code. The code will also be more modular and easier to understand, making it accessible to a wider audience of users.\n"
      ],
      "metadata": {
        "id": "__RRUqeCJo-8"
      }
    },
    {
      "cell_type": "markdown",
      "source": [
        "## Importing libraries, modules and files"
      ],
      "metadata": {
        "id": "ZoZrnFsqLDR6"
      }
    },
    {
      "cell_type": "markdown",
      "source": [
        "### importing files from my github repo"
      ],
      "metadata": {
        "id": "wwFSZL50YWFh"
      }
    },
    {
      "cell_type": "code",
      "source": [
        "!git clone https://github.com/mohamedamine99/YOLOv5-object-detection"
      ],
      "metadata": {
        "colab": {
          "base_uri": "https://localhost:8080/"
        },
        "id": "Q_FEoVtf-igA",
        "outputId": "4194c471-ab43-41bf-daae-589053b31965"
      },
      "execution_count": 2,
      "outputs": [
        {
          "output_type": "stream",
          "name": "stdout",
          "text": [
            "fatal: destination path 'YOLOv5-object-detection' already exists and is not an empty directory.\n"
          ]
        }
      ]
    },
    {
      "cell_type": "markdown",
      "source": [
        "### importing modules"
      ],
      "metadata": {
        "id": "7ywW_Y4qYmI2"
      }
    },
    {
      "cell_type": "code",
      "source": [
        "import os\n",
        "import shutil\n",
        "import time\n",
        "import random\n",
        "\n",
        "from collections import Counter\n",
        "\n",
        "\n",
        "import cv2\n",
        "import numpy as np\n",
        "\n",
        "\n",
        "# YOLOv5 PyTorch HUB Inference (DetectionModels only)\n",
        "import torch"
      ],
      "metadata": {
        "id": "Csdrs23IAvFJ"
      },
      "execution_count": 3,
      "outputs": []
    },
    {
      "cell_type": "code",
      "execution_count": 4,
      "metadata": {
        "colab": {
          "base_uri": "https://localhost:8080/"
        },
        "id": "Y2aZwji-vloL",
        "outputId": "be5d9c81-475a-4ffd-94c6-0b45a794c992"
      },
      "outputs": [
        {
          "output_type": "stream",
          "name": "stderr",
          "text": [
            "Ultralytics YOLOv8.0.58 🚀 Python-3.9.16 torch-1.13.1+cu116 CPU\n",
            "Setup complete ✅ (2 CPUs, 12.7 GB RAM, 26.4/107.7 GB disk)\n"
          ]
        }
      ],
      "source": [
        "%pip install ultralytics  # install\n",
        "import ultralytics\n",
        "ultralytics.checks()  # checks"
      ]
    },
    {
      "cell_type": "code",
      "source": [
        "import shutil\n",
        "\n",
        "src_file = '/content/YOLOv5-object-detection/Yolov5_ObjectDetector.py'\n",
        "dst_file = '/content/Yolov5_ObjectDetector.py'\n",
        "\n",
        "shutil.copy(src_file, dst_file)"
      ],
      "metadata": {
        "colab": {
          "base_uri": "https://localhost:8080/",
          "height": 35
        },
        "id": "YZuZRJLaK44c",
        "outputId": "41a7d892-5990-4405-abac-105bab399764"
      },
      "execution_count": 5,
      "outputs": [
        {
          "output_type": "execute_result",
          "data": {
            "text/plain": [
              "'/content/Yolov5_ObjectDetector.py'"
            ],
            "application/vnd.google.colaboratory.intrinsic+json": {
              "type": "string"
            }
          },
          "metadata": {},
          "execution_count": 5
        }
      ]
    },
    {
      "cell_type": "markdown",
      "source": [
        "### Importing our custom-made Yolov5_ObjectDetector"
      ],
      "metadata": {
        "id": "3252MiXSMo55"
      }
    },
    {
      "cell_type": "code",
      "source": [
        "from Yolov5_ObjectDetector import *"
      ],
      "metadata": {
        "id": "waeueaa4LBOe"
      },
      "execution_count": 6,
      "outputs": []
    },
    {
      "cell_type": "markdown",
      "source": [
        "## Setting up paths, working dirs and variables"
      ],
      "metadata": {
        "id": "95AWtTWmMHkF"
      }
    },
    {
      "cell_type": "markdown",
      "source": [
        "### Setting up paths"
      ],
      "metadata": {
        "id": "Rt5-TGoOmL81"
      }
    },
    {
      "cell_type": "code",
      "source": [
        "# Set up paths and working directories\n",
        "coco_names_file = '/content/YOLOv5-object-detection/coco.names'  # Path to file containing COCO object class names\n",
        "\n",
        "results_path = '/content/results'  # Path to directory where result images will be saved\n",
        "video_results_path = '/content/video_results'  # Path to directory where result videos will be saved\n",
        "\n",
        "test_imgs_path = '/content/YOLOv5-object-detection/test imgs'  # Path to directory containing test images\n",
        "test_vids_path = '/content/YOLOv5-object-detection/test vids'  # Path to directory containing test videos\n"
      ],
      "metadata": {
        "id": "8icYnlZitmDs"
      },
      "execution_count": 7,
      "outputs": []
    },
    {
      "cell_type": "markdown",
      "source": [
        "### loading COCO class names "
      ],
      "metadata": {
        "id": "672GykilPs4e"
      }
    },
    {
      "cell_type": "code",
      "source": [
        "# Reading the COCO dataset 80 class names from the coco names file\n",
        "labels = []\n",
        "with open(coco_names_file, 'rt') as coco_file:\n",
        "    labels = coco_file.read().rstrip('\\n').rsplit('\\n')\n",
        "    \n",
        "print(labels)\n",
        "\n",
        "# generate random color for each label\n",
        "colors = []\n",
        "for _ in labels:\n",
        "    rand_tuple = (random.randint(0, 255), random.randint(0, 255), random.randint(0, 255))\n",
        "    colors.append(rand_tuple)\n"
      ],
      "metadata": {
        "colab": {
          "base_uri": "https://localhost:8080/"
        },
        "id": "IWdB2VNGtkIG",
        "outputId": "5439804b-d84c-451b-e498-dd9ae0c2aaa9"
      },
      "execution_count": 8,
      "outputs": [
        {
          "output_type": "stream",
          "name": "stdout",
          "text": [
            "['person', 'bicycle', 'car', 'motorbike', 'aeroplane', 'bus', 'train', 'truck', 'boat', 'traffic light', 'fire hydrant', 'stop sign', 'parking meter', 'bench', 'bird', 'cat', 'dog', 'horse', 'sheep', 'cow', 'elephant', 'bear', 'zebra', 'giraffe', 'backpack', 'umbrella', 'handbag', 'tie', 'suitcase', 'frisbee', 'skis', 'snowboard', 'sports ball', 'kite', 'baseball bat', 'baseball glove', 'skateboard', 'surfboard', 'tennis racket', 'bottle', 'wine glass', 'cup', 'fork', 'knife', 'spoon', 'bowl', 'banana', 'apple', 'sandwich', 'orange', 'broccoli', 'carrot', 'hot dog', 'pizza', 'donut', 'cake', 'chair', 'sofa', 'pottedplant', 'bed', 'diningtable', 'toilet', 'tvmonitor', 'laptop', 'mouse', 'remote', 'keyboard', 'cell phone', 'microwave', 'oven', 'toaster', 'sink', 'refrigerator', 'book', 'clock', 'vase', 'scissors', 'teddy bear', 'hair drier', 'toothbrush']\n"
          ]
        }
      ]
    },
    {
      "cell_type": "markdown",
      "source": [
        "## Examples for instanciating Yolov5_ObjectDetector and invoking its methods"
      ],
      "metadata": {
        "id": "0JYl_GC_nUCv"
      }
    },
    {
      "cell_type": "markdown",
      "source": [
        "### Example for loading and detecting objects with \"yolov5n\" (a YOLOv5 variants):"
      ],
      "metadata": {
        "id": "_xof1AtGP-Ro"
      }
    },
    {
      "cell_type": "code",
      "source": [
        "detector = Yolov5_ObjectDetector('yolov5n', labels,colors)"
      ],
      "metadata": {
        "id": "R9VK7_eVGIsW"
      },
      "execution_count": null,
      "outputs": []
    },
    {
      "cell_type": "code",
      "source": [
        "results = detector.run_img_detection_from_path('/content/YOLOv5-object-detection/test imgs/people crossing the street.jpg')\n",
        "img = cv2.imread('/content/YOLOv5-object-detection/test imgs/2 dogs.PNG')\n"
      ],
      "metadata": {
        "id": "iRXCNvAtGpCh"
      },
      "execution_count": null,
      "outputs": []
    },
    {
      "cell_type": "code",
      "source": [
        "# Run object detection on multiple images in a directory and save the results \n",
        "os.makedirs('content/results__2')\n",
        "detector.run_multiple_imgs_detection_from_path('/content/YOLOv5-object-detection/test imgs', 'content/results__2')"
      ],
      "metadata": {
        "id": "dxpouXQug7mM"
      },
      "execution_count": null,
      "outputs": []
    },
    {
      "cell_type": "markdown",
      "source": [
        "### Loading and using multiple YOLOv5 variants"
      ],
      "metadata": {
        "id": "OpCxiY5Ag8_r"
      }
    },
    {
      "cell_type": "code",
      "source": [
        "# Define a list of YOLOv5 variant model names to be loaded\n",
        "yolov5_variants_names = ['yolov5n', 'yolov5s', 'yolov5m', 'yolov5l','yolov5x', \n",
        "                   'yolov5n6','yolov5s6', 'yolov5m6', 'yolov5l6','yolov5x6' ]\n",
        "\n",
        "\n",
        "detectors = []\n",
        "# Loop through the list of model names to load each model and \n",
        "# creating Directories for Results and Video Results for YOLOv5 Variants\n",
        "\n",
        "for yolo_name in yolov5_variants_names:\n",
        "    detector = Yolov5_ObjectDetector(yolo_name, labels,colors)\n",
        "    detectors.append(detector)\n",
        "\n",
        "    new_dir = os.path.join(results_path, yolo_name)\n",
        "    if os.path.isdir(new_dir):\n",
        "        print(f\"{new_dir} already exists\")\n",
        "\n",
        "    else:\n",
        "        os.makedirs(new_dir)\n",
        "\n",
        "    new_dir = os.path.join(video_results_path, yolo_name)\n",
        "    if os.path.isdir(new_dir):\n",
        "        print(f\"{new_dir} already exists\")\n",
        "\n",
        "    else:\n",
        "        os.makedirs(new_dir)\n"
      ],
      "metadata": {
        "id": "wZwaFhUzQzVU"
      },
      "execution_count": null,
      "outputs": []
    },
    {
      "cell_type": "markdown",
      "source": [
        "### Object Detection on Images in a Directory Using YOLOv5 Variants\n",
        "\n",
        "\n"
      ],
      "metadata": {
        "id": "Y9TjjUI6T8mw"
      }
    },
    {
      "cell_type": "code",
      "source": [
        "# Run object detection on multiple images from a path using multiple variants of yolov5\n",
        "for detector in detectors:\n",
        "    detector.run_multiple_imgs_detection_from_path(test_imgs_path, results_path)"
      ],
      "metadata": {
        "id": "beDDE1_oijJ0",
        "colab": {
          "base_uri": "https://localhost:8080/"
        },
        "outputId": "f753c17c-1855-44f3-c554-b1772425c7f9"
      },
      "execution_count": 13,
      "outputs": [
        {
          "output_type": "stream",
          "name": "stdout",
          "text": [
            "\n",
            "----------------------------\n",
            "nyc street.PNG :\n",
            "----------------------------\n",
            "image shape : (333, 479, 3)\n",
            "model : yolov5n\n",
            "Detected objects : person : 14  car : 3  truck : 1  \n",
            "Saving Detection Results of nyc street.PNG to /content/results/yolov5n/nyc street.PNG\n",
            "\n",
            "----------------------------\n",
            "highway.PNG :\n",
            "----------------------------\n",
            "image shape : (303, 491, 3)\n",
            "model : yolov5n\n",
            "Detected objects : car : 9  truck : 3  bus : 1  person : 1  \n",
            "Saving Detection Results of highway.PNG to /content/results/yolov5n/highway.PNG\n",
            "\n",
            "----------------------------\n",
            "people crossing the street.jpg :\n",
            "----------------------------\n",
            "image shape : (976, 976, 3)\n",
            "model : yolov5n\n",
            "Detected objects : person : 5  car : 8  truck : 1  \n",
            "Saving Detection Results of people crossing the street.jpg to /content/results/yolov5n/people crossing the street.jpg\n",
            "\n",
            "----------------------------\n",
            "2 cats.PNG :\n",
            "----------------------------\n",
            "image shape : (293, 514, 3)\n",
            "model : yolov5n\n",
            "Detected objects : cat : 2  \n",
            "Saving Detection Results of 2 cats.PNG to /content/results/yolov5n/2 cats.PNG\n",
            "\n",
            "----------------------------\n",
            "2 dogs.PNG :\n",
            "----------------------------\n",
            "image shape : (309, 472, 3)\n",
            "model : yolov5n\n",
            "Detected objects : dog : 2  \n",
            "Saving Detection Results of 2 dogs.PNG to /content/results/yolov5n/2 dogs.PNG\n",
            "\n",
            "----------------------------\n",
            "street 2.PNG :\n",
            "----------------------------\n",
            "image shape : (259, 502, 3)\n",
            "model : yolov5n\n",
            "Detected objects : bus : 1  person : 13  car : 2  bicycle : 4  \n",
            "Saving Detection Results of street 2.PNG to /content/results/yolov5n/street 2.PNG\n",
            "\n",
            "----------------------------\n",
            "nyc street.PNG :\n",
            "----------------------------\n",
            "image shape : (333, 479, 3)\n",
            "model : yolov5s\n",
            "Detected objects : car : 8  person : 15  pottedplant : 1  umbrella : 1  bus : 1  \n",
            "Saving Detection Results of nyc street.PNG to /content/results/yolov5s/nyc street.PNG\n",
            "\n",
            "----------------------------\n",
            "highway.PNG :\n",
            "----------------------------\n",
            "image shape : (303, 491, 3)\n",
            "model : yolov5s\n",
            "Detected objects : car : 12  truck : 4  bus : 1  \n",
            "Saving Detection Results of highway.PNG to /content/results/yolov5s/highway.PNG\n",
            "\n",
            "----------------------------\n",
            "people crossing the street.jpg :\n",
            "----------------------------\n",
            "image shape : (976, 976, 3)\n",
            "model : yolov5s\n",
            "Detected objects : person : 6  car : 8  truck : 1  baseball bat : 1  \n",
            "Saving Detection Results of people crossing the street.jpg to /content/results/yolov5s/people crossing the street.jpg\n",
            "\n",
            "----------------------------\n",
            "2 cats.PNG :\n",
            "----------------------------\n",
            "image shape : (293, 514, 3)\n",
            "model : yolov5s\n",
            "Detected objects : cat : 1  \n",
            "Saving Detection Results of 2 cats.PNG to /content/results/yolov5s/2 cats.PNG\n",
            "\n",
            "----------------------------\n",
            "2 dogs.PNG :\n",
            "----------------------------\n",
            "image shape : (309, 472, 3)\n",
            "model : yolov5s\n",
            "Detected objects : dog : 2  \n",
            "Saving Detection Results of 2 dogs.PNG to /content/results/yolov5s/2 dogs.PNG\n",
            "\n",
            "----------------------------\n",
            "street 2.PNG :\n",
            "----------------------------\n",
            "image shape : (259, 502, 3)\n",
            "model : yolov5s\n",
            "Detected objects : car : 2  bus : 1  person : 8  bicycle : 4  backpack : 1  traffic light : 1  \n",
            "Saving Detection Results of street 2.PNG to /content/results/yolov5s/street 2.PNG\n",
            "\n",
            "----------------------------\n",
            "nyc street.PNG :\n",
            "----------------------------\n",
            "image shape : (333, 479, 3)\n",
            "model : yolov5m\n",
            "Detected objects : car : 9  person : 15  pottedplant : 2  bus : 2  truck : 1  clock : 1  \n",
            "Saving Detection Results of nyc street.PNG to /content/results/yolov5m/nyc street.PNG\n",
            "\n",
            "----------------------------\n",
            "highway.PNG :\n",
            "----------------------------\n",
            "image shape : (303, 491, 3)\n",
            "model : yolov5m\n",
            "Detected objects : truck : 6  car : 16  \n",
            "Saving Detection Results of highway.PNG to /content/results/yolov5m/highway.PNG\n",
            "\n",
            "----------------------------\n",
            "people crossing the street.jpg :\n",
            "----------------------------\n",
            "image shape : (976, 976, 3)\n",
            "model : yolov5m\n",
            "Detected objects : person : 7  car : 10  baseball bat : 1  truck : 1  tie : 1  handbag : 2  \n",
            "Saving Detection Results of people crossing the street.jpg to /content/results/yolov5m/people crossing the street.jpg\n",
            "\n",
            "----------------------------\n",
            "2 cats.PNG :\n",
            "----------------------------\n",
            "image shape : (293, 514, 3)\n",
            "model : yolov5m\n",
            "Detected objects : cat : 2  \n",
            "Saving Detection Results of 2 cats.PNG to /content/results/yolov5m/2 cats.PNG\n",
            "\n",
            "----------------------------\n",
            "2 dogs.PNG :\n",
            "----------------------------\n",
            "image shape : (309, 472, 3)\n",
            "model : yolov5m\n",
            "Detected objects : dog : 2  \n",
            "Saving Detection Results of 2 dogs.PNG to /content/results/yolov5m/2 dogs.PNG\n",
            "\n",
            "----------------------------\n",
            "street 2.PNG :\n",
            "----------------------------\n",
            "image shape : (259, 502, 3)\n",
            "model : yolov5m\n",
            "Detected objects : car : 8  bus : 1  person : 13  bicycle : 7  traffic light : 1  handbag : 1  \n",
            "Saving Detection Results of street 2.PNG to /content/results/yolov5m/street 2.PNG\n",
            "\n",
            "----------------------------\n",
            "nyc street.PNG :\n",
            "----------------------------\n",
            "image shape : (333, 479, 3)\n",
            "model : yolov5l\n",
            "Detected objects : car : 9  person : 19  pottedplant : 3  bus : 1  clock : 1  umbrella : 2  truck : 1  \n",
            "Saving Detection Results of nyc street.PNG to /content/results/yolov5l/nyc street.PNG\n",
            "\n",
            "----------------------------\n",
            "highway.PNG :\n",
            "----------------------------\n",
            "image shape : (303, 491, 3)\n",
            "model : yolov5l\n",
            "Detected objects : truck : 6  car : 14  \n",
            "Saving Detection Results of highway.PNG to /content/results/yolov5l/highway.PNG\n",
            "\n",
            "----------------------------\n",
            "people crossing the street.jpg :\n",
            "----------------------------\n",
            "image shape : (976, 976, 3)\n",
            "model : yolov5l\n",
            "Detected objects : person : 6  car : 14  baseball bat : 1  tie : 1  \n",
            "Saving Detection Results of people crossing the street.jpg to /content/results/yolov5l/people crossing the street.jpg\n",
            "\n",
            "----------------------------\n",
            "2 cats.PNG :\n",
            "----------------------------\n",
            "image shape : (293, 514, 3)\n",
            "model : yolov5l\n",
            "Detected objects : cat : 2  \n",
            "Saving Detection Results of 2 cats.PNG to /content/results/yolov5l/2 cats.PNG\n",
            "\n",
            "----------------------------\n",
            "2 dogs.PNG :\n",
            "----------------------------\n",
            "image shape : (309, 472, 3)\n",
            "model : yolov5l\n",
            "Detected objects : dog : 2  \n",
            "Saving Detection Results of 2 dogs.PNG to /content/results/yolov5l/2 dogs.PNG\n",
            "\n",
            "----------------------------\n",
            "street 2.PNG :\n",
            "----------------------------\n",
            "image shape : (259, 502, 3)\n",
            "model : yolov5l\n",
            "Detected objects : bus : 1  car : 7  person : 14  bicycle : 6  traffic light : 1  handbag : 1  \n",
            "Saving Detection Results of street 2.PNG to /content/results/yolov5l/street 2.PNG\n",
            "\n",
            "----------------------------\n",
            "nyc street.PNG :\n",
            "----------------------------\n",
            "image shape : (333, 479, 3)\n",
            "model : yolov5x\n",
            "Detected objects : car : 9  pottedplant : 4  person : 16  bus : 2  clock : 2  umbrella : 2  traffic light : 2  truck : 1  \n",
            "Saving Detection Results of nyc street.PNG to /content/results/yolov5x/nyc street.PNG\n",
            "\n",
            "----------------------------\n",
            "highway.PNG :\n",
            "----------------------------\n",
            "image shape : (303, 491, 3)\n",
            "model : yolov5x\n",
            "Detected objects : truck : 7  car : 16  \n",
            "Saving Detection Results of highway.PNG to /content/results/yolov5x/highway.PNG\n",
            "\n",
            "----------------------------\n",
            "people crossing the street.jpg :\n",
            "----------------------------\n",
            "image shape : (976, 976, 3)\n",
            "model : yolov5x\n",
            "Detected objects : person : 6  car : 11  truck : 1  tie : 1  \n",
            "Saving Detection Results of people crossing the street.jpg to /content/results/yolov5x/people crossing the street.jpg\n",
            "\n",
            "----------------------------\n",
            "2 cats.PNG :\n",
            "----------------------------\n",
            "image shape : (293, 514, 3)\n",
            "model : yolov5x\n",
            "Detected objects : cat : 2  \n",
            "Saving Detection Results of 2 cats.PNG to /content/results/yolov5x/2 cats.PNG\n",
            "\n",
            "----------------------------\n",
            "2 dogs.PNG :\n",
            "----------------------------\n",
            "image shape : (309, 472, 3)\n",
            "model : yolov5x\n",
            "Detected objects : dog : 2  \n",
            "Saving Detection Results of 2 dogs.PNG to /content/results/yolov5x/2 dogs.PNG\n",
            "\n",
            "----------------------------\n",
            "street 2.PNG :\n",
            "----------------------------\n",
            "image shape : (259, 502, 3)\n",
            "model : yolov5x\n",
            "Detected objects : car : 6  bus : 1  person : 12  bicycle : 6  traffic light : 1  handbag : 1  truck : 1  \n",
            "Saving Detection Results of street 2.PNG to /content/results/yolov5x/street 2.PNG\n",
            "\n",
            "----------------------------\n",
            "nyc street.PNG :\n",
            "----------------------------\n",
            "image shape : (333, 479, 3)\n",
            "model : yolov5n6\n",
            "Detected objects : person : 7  car : 3  \n",
            "Saving Detection Results of nyc street.PNG to /content/results/yolov5n6/nyc street.PNG\n",
            "\n",
            "----------------------------\n",
            "highway.PNG :\n",
            "----------------------------\n",
            "image shape : (303, 491, 3)\n",
            "model : yolov5n6\n",
            "Detected objects : car : 9  truck : 2  train : 1  \n",
            "Saving Detection Results of highway.PNG to /content/results/yolov5n6/highway.PNG\n",
            "\n",
            "----------------------------\n",
            "people crossing the street.jpg :\n",
            "----------------------------\n",
            "image shape : (976, 976, 3)\n",
            "model : yolov5n6\n",
            "Detected objects : person : 4  car : 7  truck : 1  handbag : 1  \n",
            "Saving Detection Results of people crossing the street.jpg to /content/results/yolov5n6/people crossing the street.jpg\n",
            "\n",
            "----------------------------\n",
            "2 cats.PNG :\n",
            "----------------------------\n",
            "image shape : (293, 514, 3)\n",
            "model : yolov5n6\n",
            "Detected objects : cat : 2  \n",
            "Saving Detection Results of 2 cats.PNG to /content/results/yolov5n6/2 cats.PNG\n",
            "\n",
            "----------------------------\n",
            "2 dogs.PNG :\n",
            "----------------------------\n",
            "image shape : (309, 472, 3)\n",
            "model : yolov5n6\n",
            "Detected objects : dog : 2  \n",
            "Saving Detection Results of 2 dogs.PNG to /content/results/yolov5n6/2 dogs.PNG\n",
            "\n",
            "----------------------------\n",
            "street 2.PNG :\n",
            "----------------------------\n",
            "image shape : (259, 502, 3)\n",
            "model : yolov5n6\n",
            "Detected objects : car : 3  person : 6  bus : 1  bicycle : 4  \n",
            "Saving Detection Results of street 2.PNG to /content/results/yolov5n6/street 2.PNG\n",
            "\n",
            "----------------------------\n",
            "nyc street.PNG :\n",
            "----------------------------\n",
            "image shape : (333, 479, 3)\n",
            "model : yolov5s6\n",
            "Detected objects : car : 3  person : 12  bus : 3  traffic light : 1  \n",
            "Saving Detection Results of nyc street.PNG to /content/results/yolov5s6/nyc street.PNG\n",
            "\n",
            "----------------------------\n",
            "highway.PNG :\n",
            "----------------------------\n",
            "image shape : (303, 491, 3)\n",
            "model : yolov5s6\n",
            "Detected objects : car : 8  truck : 7  \n",
            "Saving Detection Results of highway.PNG to /content/results/yolov5s6/highway.PNG\n",
            "\n",
            "----------------------------\n",
            "people crossing the street.jpg :\n",
            "----------------------------\n",
            "image shape : (976, 976, 3)\n",
            "model : yolov5s6\n",
            "Detected objects : person : 5  car : 7  truck : 1  handbag : 1  \n",
            "Saving Detection Results of people crossing the street.jpg to /content/results/yolov5s6/people crossing the street.jpg\n",
            "\n",
            "----------------------------\n",
            "2 cats.PNG :\n",
            "----------------------------\n",
            "image shape : (293, 514, 3)\n",
            "model : yolov5s6\n",
            "Detected objects : cat : 2  \n",
            "Saving Detection Results of 2 cats.PNG to /content/results/yolov5s6/2 cats.PNG\n",
            "\n",
            "----------------------------\n",
            "2 dogs.PNG :\n",
            "----------------------------\n",
            "image shape : (309, 472, 3)\n",
            "model : yolov5s6\n",
            "Detected objects : dog : 2  \n",
            "Saving Detection Results of 2 dogs.PNG to /content/results/yolov5s6/2 dogs.PNG\n",
            "\n",
            "----------------------------\n",
            "street 2.PNG :\n",
            "----------------------------\n",
            "image shape : (259, 502, 3)\n",
            "model : yolov5s6\n",
            "Detected objects : person : 9  car : 2  bus : 1  bicycle : 4  backpack : 1  \n",
            "Saving Detection Results of street 2.PNG to /content/results/yolov5s6/street 2.PNG\n",
            "\n",
            "----------------------------\n",
            "nyc street.PNG :\n",
            "----------------------------\n",
            "image shape : (333, 479, 3)\n",
            "model : yolov5m6\n",
            "Detected objects : car : 10  bus : 2  person : 13  pottedplant : 2  umbrella : 1  \n",
            "Saving Detection Results of nyc street.PNG to /content/results/yolov5m6/nyc street.PNG\n",
            "\n",
            "----------------------------\n",
            "highway.PNG :\n",
            "----------------------------\n",
            "image shape : (303, 491, 3)\n",
            "model : yolov5m6\n",
            "Detected objects : truck : 5  car : 14  \n",
            "Saving Detection Results of highway.PNG to /content/results/yolov5m6/highway.PNG\n",
            "\n",
            "----------------------------\n",
            "people crossing the street.jpg :\n",
            "----------------------------\n",
            "image shape : (976, 976, 3)\n",
            "model : yolov5m6\n",
            "Detected objects : person : 5  car : 9  truck : 1  \n",
            "Saving Detection Results of people crossing the street.jpg to /content/results/yolov5m6/people crossing the street.jpg\n",
            "\n",
            "----------------------------\n",
            "2 cats.PNG :\n",
            "----------------------------\n",
            "image shape : (293, 514, 3)\n",
            "model : yolov5m6\n",
            "Detected objects : cat : 2  \n",
            "Saving Detection Results of 2 cats.PNG to /content/results/yolov5m6/2 cats.PNG\n",
            "\n",
            "----------------------------\n",
            "2 dogs.PNG :\n",
            "----------------------------\n",
            "image shape : (309, 472, 3)\n",
            "model : yolov5m6\n",
            "Detected objects : dog : 2  \n",
            "Saving Detection Results of 2 dogs.PNG to /content/results/yolov5m6/2 dogs.PNG\n",
            "\n",
            "----------------------------\n",
            "street 2.PNG :\n",
            "----------------------------\n",
            "image shape : (259, 502, 3)\n",
            "model : yolov5m6\n",
            "Detected objects : bus : 1  car : 6  person : 12  bicycle : 4  \n",
            "Saving Detection Results of street 2.PNG to /content/results/yolov5m6/street 2.PNG\n",
            "\n",
            "----------------------------\n",
            "nyc street.PNG :\n",
            "----------------------------\n",
            "image shape : (333, 479, 3)\n",
            "model : yolov5l6\n",
            "Detected objects : car : 10  bus : 2  person : 12  pottedplant : 5  umbrella : 2  traffic light : 1  \n",
            "Saving Detection Results of nyc street.PNG to /content/results/yolov5l6/nyc street.PNG\n",
            "\n",
            "----------------------------\n",
            "highway.PNG :\n",
            "----------------------------\n",
            "image shape : (303, 491, 3)\n",
            "model : yolov5l6\n",
            "Detected objects : truck : 5  car : 13  person : 1  \n",
            "Saving Detection Results of highway.PNG to /content/results/yolov5l6/highway.PNG\n",
            "\n",
            "----------------------------\n",
            "people crossing the street.jpg :\n",
            "----------------------------\n",
            "image shape : (976, 976, 3)\n",
            "model : yolov5l6\n",
            "Detected objects : person : 6  car : 12  truck : 1  tie : 1  \n",
            "Saving Detection Results of people crossing the street.jpg to /content/results/yolov5l6/people crossing the street.jpg\n",
            "\n",
            "----------------------------\n",
            "2 cats.PNG :\n",
            "----------------------------\n",
            "image shape : (293, 514, 3)\n",
            "model : yolov5l6\n",
            "Detected objects : cat : 2  \n",
            "Saving Detection Results of 2 cats.PNG to /content/results/yolov5l6/2 cats.PNG\n",
            "\n",
            "----------------------------\n",
            "2 dogs.PNG :\n",
            "----------------------------\n",
            "image shape : (309, 472, 3)\n",
            "model : yolov5l6\n",
            "Detected objects : dog : 2  \n",
            "Saving Detection Results of 2 dogs.PNG to /content/results/yolov5l6/2 dogs.PNG\n",
            "\n",
            "----------------------------\n",
            "street 2.PNG :\n",
            "----------------------------\n",
            "image shape : (259, 502, 3)\n",
            "model : yolov5l6\n",
            "Detected objects : car : 4  person : 9  bus : 1  bicycle : 5  handbag : 1  traffic light : 1  motorbike : 1  \n",
            "Saving Detection Results of street 2.PNG to /content/results/yolov5l6/street 2.PNG\n",
            "\n",
            "----------------------------\n",
            "nyc street.PNG :\n",
            "----------------------------\n",
            "image shape : (333, 479, 3)\n",
            "model : yolov5x6\n",
            "Detected objects : car : 11  bus : 3  person : 13  pottedplant : 4  umbrella : 2  truck : 1  \n",
            "Saving Detection Results of nyc street.PNG to /content/results/yolov5x6/nyc street.PNG\n",
            "\n",
            "----------------------------\n",
            "highway.PNG :\n",
            "----------------------------\n",
            "image shape : (303, 491, 3)\n",
            "model : yolov5x6\n",
            "Detected objects : truck : 6  car : 12  \n",
            "Saving Detection Results of highway.PNG to /content/results/yolov5x6/highway.PNG\n",
            "\n",
            "----------------------------\n",
            "people crossing the street.jpg :\n",
            "----------------------------\n",
            "image shape : (976, 976, 3)\n",
            "model : yolov5x6\n",
            "Detected objects : person : 5  car : 11  truck : 1  \n",
            "Saving Detection Results of people crossing the street.jpg to /content/results/yolov5x6/people crossing the street.jpg\n",
            "\n",
            "----------------------------\n",
            "2 cats.PNG :\n",
            "----------------------------\n",
            "image shape : (293, 514, 3)\n",
            "model : yolov5x6\n",
            "Detected objects : cat : 2  \n",
            "Saving Detection Results of 2 cats.PNG to /content/results/yolov5x6/2 cats.PNG\n",
            "\n",
            "----------------------------\n",
            "2 dogs.PNG :\n",
            "----------------------------\n",
            "image shape : (309, 472, 3)\n",
            "model : yolov5x6\n",
            "Detected objects : dog : 2  \n",
            "Saving Detection Results of 2 dogs.PNG to /content/results/yolov5x6/2 dogs.PNG\n",
            "\n",
            "----------------------------\n",
            "street 2.PNG :\n",
            "----------------------------\n",
            "image shape : (259, 502, 3)\n",
            "model : yolov5x6\n",
            "Detected objects : person : 10  bus : 1  car : 5  bicycle : 7  handbag : 1  traffic light : 1  backpack : 1  \n",
            "Saving Detection Results of street 2.PNG to /content/results/yolov5x6/street 2.PNG\n"
          ]
        }
      ]
    },
    {
      "cell_type": "markdown",
      "source": [
        "### Object Detection on Videos in a Directory Using a single YOLOv5 Variant : yolov5n\n"
      ],
      "metadata": {
        "id": "_ID1-AW8UU-U"
      }
    },
    {
      "cell_type": "code",
      "source": [
        "detector = Yolov5_ObjectDetector('yolov5n', labels,colors)\n",
        "detector.run_video_detection_from_path('/content/YOLOv5-object-detection/test vids/traffic.mp4', \n",
        "                                       '/content/video_results' + '/' + detector.model_name , \n",
        "                                       output_FPS = 25, output_format = '.avi')"
      ],
      "metadata": {
        "colab": {
          "base_uri": "https://localhost:8080/"
        },
        "id": "lL9R2YwvqSf0",
        "outputId": "8c2be6d4-c8e5-418b-c854-5e6ecba71225"
      },
      "execution_count": 14,
      "outputs": [
        {
          "output_type": "stream",
          "name": "stderr",
          "text": [
            "Downloading: \"https://github.com/ultralytics/yolov5/zipball/master\" to /root/.cache/torch/hub/master.zip\n",
            "YOLOv5 🚀 2023-3-27 Python-3.9.16 torch-1.13.1+cu116 CPU\n",
            "\n",
            "Fusing layers... \n",
            "YOLOv5n summary: 213 layers, 1867405 parameters, 0 gradients\n",
            "Adding AutoShape... \n"
          ]
        },
        {
          "output_type": "stream",
          "name": "stdout",
          "text": [
            "\n",
            "----------------------------\n",
            "traffic.mp4 : (640, 360)\n",
            "/content/YOLOv5-object-detection/test vids/traffic.mp4\n",
            "yolov5n\n",
            "saving to :/content/video_results/yolov5n/traffic.avi\n",
            "Error reading frame\n"
          ]
        }
      ]
    },
    {
      "cell_type": "markdown",
      "source": [
        "## Saving results"
      ],
      "metadata": {
        "id": "RzyRPF8EYe0J"
      }
    },
    {
      "cell_type": "code",
      "source": [
        "!zip -r results.zip /content/results"
      ],
      "metadata": {
        "id": "P59WjCKOGO0h"
      },
      "execution_count": null,
      "outputs": []
    },
    {
      "cell_type": "code",
      "source": [
        "!zip -r video_results.zip /content/video_results"
      ],
      "metadata": {
        "id": "v3lz3ZDmQ5W4"
      },
      "execution_count": null,
      "outputs": []
    }
  ]
}